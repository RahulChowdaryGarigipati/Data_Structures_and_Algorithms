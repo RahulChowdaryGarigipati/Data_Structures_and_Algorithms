{
 "cells": [
  {
   "cell_type": "markdown",
   "metadata": {},
   "source": [
    "### Q1.) BFS"
   ]
  },
  {
   "cell_type": "code",
   "execution_count": 191,
   "metadata": {},
   "outputs": [
    {
     "name": "stdout",
     "output_type": "stream",
     "text": [
      "['0 -> 1, 0 -> 2, 1 -> 2, 2 -> 0, 2 -> 3, 3 -> 3']\n",
      "\n",
      " BFS From Vertex 0 is:\n",
      "0 1 2 3 \n",
      " BFS From Vertex 1 is:\n",
      "1 2 0 3 \n",
      " BFS From Vertex 2 is:\n",
      "2 0 3 1 "
     ]
    }
   ],
   "source": [
    "from collections import defaultdict\n",
    "\n",
    "# BFS algorithm\n",
    "class Graph:\n",
    " \n",
    "    def __init__(self):\n",
    " \n",
    "        # default dictionary to store graph.\n",
    "        self.graph = defaultdict(list)\n",
    " \n",
    "    # function to add an edge to graph.\n",
    "    def addEdge(self,u,v):\n",
    "        self.graph[u].append(v)\n",
    " \n",
    "    # Function to print a BFS of graph.\n",
    "    def BFS(self, s):\n",
    " \n",
    "        # Mark all the vertices as not visited.\n",
    "        visited = [False] * (max(self.graph) + 1)\n",
    " \n",
    "        # Create a queue for BFS.\n",
    "        queue = []\n",
    " \n",
    "        # Mark the source node as visited and enqueue it.\n",
    "        queue.append(s)\n",
    "        visited[s] = True\n",
    " \n",
    "        while queue:\n",
    " \n",
    "            # Dequeue a vertex from\n",
    "            s = queue.pop(0)\n",
    "            print (s, end = \" \")\n",
    " \n",
    "            # Get all adjacent vertices of the dequeued vertex s. If a adjacent has not been visited, then mark it visited and enqueue it.\n",
    "            for i in self.graph[s]:\n",
    "                if visited[i] == False:\n",
    "                    queue.append(i)\n",
    "                    visited[i] = True\n",
    " \n",
    "# Read the input file\n",
    "with open(\"Q1_input.txt\", \"r\") as f:\n",
    "    data = f.readlines()\n",
    "print(data)\n",
    "x = data[0].split(\" \")\n",
    "x = [i for i in x if i != '->']\n",
    "x = [int(i[0]) for i in x]\n",
    "\n",
    "# Create a graph\n",
    "g = Graph()\n",
    "for i in range(0, len(x), 2):\n",
    "    g.addEdge(int(x[i]), int(x[i+1]))\n",
    "print(\"\\n\", \"BFS From Vertex 0 is:\")\n",
    "g.BFS(0)\n",
    "print(\"\\n\", \"BFS From Vertex 1 is:\")\n",
    "g.BFS(1)\n",
    "print(\"\\n\", \"BFS From Vertex 2 is:\")\n",
    "g.BFS(2)"
   ]
  },
  {
   "cell_type": "markdown",
   "metadata": {},
   "source": [
    "### The Time Complexity of the above BFS algorithm is O(V+E)."
   ]
  },
  {
   "cell_type": "markdown",
   "metadata": {},
   "source": [
    "### Q2.) Dijkstra's Algorithm using Priority Queue"
   ]
  },
  {
   "cell_type": "code",
   "execution_count": 192,
   "metadata": {},
   "outputs": [
    {
     "name": "stdout",
     "output_type": "stream",
     "text": [
      "['A -> B (4), B -> C (3), C -> B (1), B -> D (2), B -> E (3), C -> E (5), E -> D (1), A -> C (2), C -> D (4)']\n",
      "Shortest path from Source Vertex to Destination Vertext of goal is: (['A', 'C', 'E'], 9)\n",
      "Shortest path from Source Vertex to Destination Vertext of goal is: (['A', 'C', 'B', 'E'], 11)\n"
     ]
    }
   ],
   "source": [
    "## Dijkstra's algorithm using priority queue to find shortest path to goal (quits early upon finding goal).\n",
    "\n",
    "from queue import PriorityQueue\n",
    "\n",
    "def dijkstra(G, start, goal):\n",
    "    \n",
    "    visited = set()\n",
    "    cost = {start: 0}\n",
    "    parent = {start: None}\n",
    "    todo = PriorityQueue()\n",
    "  \n",
    "    todo.put((0, start))\n",
    "    while todo:\n",
    "        while not todo.empty():\n",
    "            _, vertex = todo.get() # finds lowest cost vertex\n",
    "\n",
    "            # loop until we get a fresh vertex\n",
    "            if vertex not in visited: break\n",
    "        else: # if todo ran out\n",
    "\n",
    "            break # quit main loop\n",
    "        visited.add(vertex)\n",
    "        if vertex == goal:\n",
    "            break\n",
    "        for neighbor, distance in G[vertex]:\n",
    "            if neighbor in visited: continue # skip these to save time\n",
    "            old_cost = cost.get(neighbor, float('inf')) # default to infinity\n",
    "            new_cost = cost[vertex] + distance\n",
    "            if new_cost < old_cost:\n",
    "                todo.put((new_cost, neighbor))\n",
    "                cost[neighbor] = new_cost\n",
    "                parent[neighbor] = vertex\n",
    "\n",
    "    return parent, cost\n",
    "\n",
    "def make_path(parent, cost, goal):\n",
    "    total_cost = 0\n",
    "    if goal not in parent:\n",
    "        return None\n",
    "    v = goal\n",
    "    path = []\n",
    "    while v is not None: # root has null parent\n",
    "        path.append(v)\n",
    "        total_cost += cost[v]\n",
    "        v = parent[v]\n",
    "        \n",
    "    return path[::-1], total_cost\n",
    "\n",
    "G = {}\n",
    "# Read the input file\n",
    "with open(\"Q2_input.txt\", \"r\") as f:\n",
    "    data = f.readlines()\n",
    "print(data)\n",
    "x = data[0].split(\",\")\n",
    "for i in x:\n",
    "    x1 = i.split(\"->\")\n",
    "    x2 = x1[1].split(\" \")\n",
    "    x1[0] = x1[0].strip()\n",
    "    if x1[0] not in G:\n",
    "        G[x1[0]] = set()\n",
    "\n",
    "    G[x1[0]].add((x2[1], int(x2[2][1:-1])))\n",
    "\n",
    "\n",
    "parent,cost = dijkstra(G, 'A', 'B')\n",
    "print(\"Shortest path from Source Vertex to Destination Vertext of goal is:\", make_path(parent, cost, 'E'))\n",
    "parent,cost = dijkstra(G, 'A', 'D')\n",
    "print(\"Shortest path from Source Vertex to Destination Vertext of goal is:\", make_path(parent, cost, 'E'))"
   ]
  },
  {
   "cell_type": "markdown",
   "metadata": {},
   "source": [
    "### The Time Complexity for the above Dijkstra's Algorithm is O(V+E)logV."
   ]
  },
  {
   "cell_type": "markdown",
   "metadata": {},
   "source": [
    "### Q3.) Islands in a Graph using BFS"
   ]
  },
  {
   "cell_type": "code",
   "execution_count": 193,
   "metadata": {},
   "outputs": [
    {
     "name": "stdout",
     "output_type": "stream",
     "text": [
      "['1, 1, 0, 0, 0,', '0, 1, 0, 0, 1,', '1, 0, 0, 1, 1,', '0, 0, 0, 0, 0,', '1, 0, 1, 1, 0']\n",
      "4\n"
     ]
    }
   ],
   "source": [
    "from collections import deque\n",
    "\n",
    "# A function to check if a given cell is safe or not.\n",
    "def isSafe(mat, i, j, vis):\n",
    "\t\n",
    "\treturn ((i >= 0) and (i < 5) and\n",
    "\t\t\t(j >= 0) and (j < 5) and\n",
    "\t\t(mat[i][j] and (not vis[i][j])))\n",
    "\n",
    "def BFS(mat, vis, si, sj):\n",
    "\t\n",
    "\t# These arrays are used to get row and column numbers of 8 neighbours of a given cell.\n",
    "\trow = [-1, -1, -1, 0, 0, 1, 1, 1]\n",
    "\tcol = [-1, 0, 1, -1, 1, -1, 0, 1]\n",
    "\n",
    "\t# Simple BFS first step, we enqueue first cell in queue and mark it as visited.\n",
    "\tq = deque()\n",
    "\tq.append([si, sj])\n",
    "\tvis[si][sj] = True\n",
    "\n",
    "\t# Next step of BFS. We basically keep on dequeuing all the vertices in the queue and do the following for every dequeued vertex.\n",
    "\twhile (len(q) > 0):\n",
    "\t\ttemp = q.popleft()\n",
    "\n",
    "\t\ti = temp[0]\n",
    "\t\tj = temp[1]\n",
    "\n",
    "\t\t# Go through all 8 adjacent.\n",
    "\t\tfor k in range(8):\n",
    "\t\t\tif (isSafe(mat, i + row[k], j + col[k], vis)):\n",
    "\t\t\t\tvis[i + row[k]][j + col[k]] = True\n",
    "\t\t\t\tq.append([i + row[k], j + col[k]])\n",
    "\n",
    "# This function returns number islands in a given boolean matrix mat of size 5x5.\n",
    "def countIslands(mat):\n",
    "\t\n",
    "\t# Mark all cells as not visited.\n",
    "\tvis = [[False for i in range(5)]\n",
    "\t\t\t\tfor i in range(5)]\n",
    "\n",
    "\t# all BFS for every unvisited cell in the matrix and increment count of islands by 1.\n",
    "\tres = 0\n",
    "\n",
    "\tfor i in range(5):\n",
    "\t\tfor j in range(5):\n",
    "\t\t\tif (mat[i][j] and not vis[i][j]):\n",
    "\t\t\t\tBFS(mat, vis, i, j)\n",
    "\t\t\t\tres += 1\n",
    "\n",
    "\treturn res\n",
    "\n",
    "\n",
    "with open(\"Q3_input.txt\", \"r\") as f:\n",
    "    data = f.read().splitlines()\n",
    "print(data)\n",
    "\n",
    "if __name__ == '__main__':\n",
    "\tmat = [ [ 1, 1, 0, 0, 0 ],\n",
    "\t\t\t[ 0, 1, 0, 0, 1 ],\n",
    "\t\t\t[ 1, 0, 0, 1, 1 ],\n",
    "\t\t\t[ 0, 0, 0, 0, 0 ],\n",
    "\t\t\t[ 1, 0, 1, 1, 0 ]]\n",
    "for line in data:\n",
    "    x = [i.strip() for i  in line.split(',')]\n",
    "    x.pop()\n",
    "    mat.append(x)\n",
    "print (countIslands(mat))"
   ]
  },
  {
   "cell_type": "markdown",
   "metadata": {},
   "source": [
    "### The Time Complexity for the above Islands in a graph algorithm is O(numRows X numColumns)."
   ]
  }
 ],
 "metadata": {
  "interpreter": {
   "hash": "ac59ebe37160ed0dfa835113d9b8498d9f09ceb179beaac4002f036b9467c963"
  },
  "kernelspec": {
   "display_name": "Python 3.9.7 64-bit",
   "language": "python",
   "name": "python3"
  },
  "language_info": {
   "codemirror_mode": {
    "name": "ipython",
    "version": 3
   },
   "file_extension": ".py",
   "mimetype": "text/x-python",
   "name": "python",
   "nbconvert_exporter": "python",
   "pygments_lexer": "ipython3",
   "version": "3.9.7"
  },
  "orig_nbformat": 4
 },
 "nbformat": 4,
 "nbformat_minor": 2
}
