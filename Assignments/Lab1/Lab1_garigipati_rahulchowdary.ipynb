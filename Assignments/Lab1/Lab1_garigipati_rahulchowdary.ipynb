{
 "cells": [
  {
   "cell_type": "markdown",
   "metadata": {},
   "source": [
    "### Q1.) Peak Element"
   ]
  },
  {
   "cell_type": "code",
   "execution_count": 1,
   "metadata": {},
   "outputs": [
    {
     "name": "stdout",
     "output_type": "stream",
     "text": [
      "The peak element index is 2\n",
      "The peak element index is 5\n",
      "The peak element index is 2\n",
      "The peak element index is 2\n"
     ]
    }
   ],
   "source": [
    "def peak_element(nums) :\n",
    "    n = len(nums)\n",
    "    left = 0\n",
    "    right = n - 1\n",
    "    while left <= right:\n",
    "        mid = (left + right) // 2\n",
    "        \n",
    "        ## Compare middle element with its neighbours (if neighbours exist).\n",
    "        if (mid == 0 or nums[mid-1] <= nums[mid]) and (mid == n-1 or nums[mid] >= nums[mid+1]):  \n",
    "            return mid\n",
    "\n",
    "        ## If middle element is 0 or the array of the middle elements is less than the array of the middle-1 elements, then return right else return left.\n",
    "        if mid == 0 or nums[mid-1] > nums[mid]:  \n",
    "            right = mid - 1\n",
    "        else:  \n",
    "            left = mid + 1\n",
    "\n",
    "nums = [1, 2, 3, 1]\n",
    "nums1 = [1, 2, 1, 3, 5, 6, 4]\n",
    "nums2 = [8, 9, 10, 2, 5, 6]\n",
    "nums3 = [1, 3, 20, 4, 1, 0]\n",
    "\n",
    "print('The peak element index is', peak_element(nums))\n",
    "print('The peak element index is', peak_element(nums1))\n",
    "print('The peak element index is', peak_element(nums2))\n",
    "print('The peak element index is', peak_element(nums3))"
   ]
  },
  {
   "cell_type": "markdown",
   "metadata": {},
   "source": [
    "### Therefore, the Time Complexity for the above algorithm is O(logn)."
   ]
  },
  {
   "cell_type": "markdown",
   "metadata": {},
   "source": [
    "### Q2.) Smallest Missing Element"
   ]
  },
  {
   "cell_type": "code",
   "execution_count": 2,
   "metadata": {},
   "outputs": [
    {
     "name": "stdout",
     "output_type": "stream",
     "text": [
      "The smallest missing element is: 3\n",
      "The smallest missing element is: 0\n",
      "The smallest missing element is: 7\n"
     ]
    }
   ],
   "source": [
    "def findsmallestmissing(listA, leftP, rightP):\n",
    "\n",
    "    ## if left part is greater than the right part, then return right part of the listA.\n",
    "\n",
    "    if leftP > rightP:\n",
    "        return listA[rightP] + 1\n",
    "\n",
    "    ## if left part is not equal to that of the left part of the listA then return 0.\n",
    "\n",
    "    if listA[leftP] != leftP:\n",
    "        return 0 \n",
    "\n",
    "    mid = int((rightP + leftP)/2)\n",
    "    \n",
    "    if listA[mid] == mid:\n",
    "        ## recursively call on the right part of the list\n",
    "        return findsmallestmissing(listA, mid+1, rightP)\n",
    "    else:\n",
    "        ## recursively call on the left part of the list \n",
    "        return findsmallestmissing(listA, leftP, mid-1)\n",
    "\n",
    "list1 = [0, 1, 2, 6, 9, 11, 15]\n",
    "list2 = [1, 2, 3, 4, 6, 9, 11, 15]\n",
    "list3 = [0, 1, 2, 3, 4, 5, 6]\n",
    "\n",
    "print(\"The smallest missing element is:\", findsmallestmissing(list1, 0, len(list1) - 1))\n",
    "print(\"The smallest missing element is:\", findsmallestmissing(list2, 0, len(list2) - 1))\n",
    "print(\"The smallest missing element is:\", findsmallestmissing(list3, 0, len(list3) - 1))"
   ]
  },
  {
   "cell_type": "markdown",
   "metadata": {},
   "source": [
    "### Therefore, the Time Complexity for the above Algorithm is O(logn)."
   ]
  },
  {
   "cell_type": "markdown",
   "metadata": {},
   "source": [
    "### Q3.) QuickSort Algorithm (Random Pivoting)"
   ]
  },
  {
   "cell_type": "code",
   "execution_count": 3,
   "metadata": {},
   "outputs": [
    {
     "name": "stdout",
     "output_type": "stream",
     "text": [
      "Sorted Array: [1, 5, 7, 8, 9, 10]\n",
      "Sorted Array: [12, 19, 21, 27, 28, 29, 31, 41, 44, 44, 58, 66, 76, 78, 83, 87, 88, 97, 99]\n",
      "Sorted Array: [1, 2, 8, 9, 19, 20, 43]\n"
     ]
    }
   ],
   "source": [
    "import random\n",
    "\n",
    "def quicksort(arr, start, stop):\n",
    "\tif(start < stop):\n",
    "\t\t\n",
    "\t\t## pivotindex is the index where the pivot lies in the array\n",
    "\t\tpivotindex = partitionrand(arr,\\\n",
    "\t\t\t\t\t\t\tstart, stop)\n",
    "\t\n",
    "\t\t## At this stage the array is partially sorted around the pivot. separately sorting the left half of the array and the right half of the array.\n",
    "\t\tquicksort(arr , start , pivotindex)\n",
    "\t\tquicksort(arr, pivotindex + 1, stop)\n",
    "\n",
    "## This function generates random pivot, swaps the first element with the pivot and calls the partition function.\n",
    "def partitionrand(arr , start, stop):\n",
    "\n",
    "\t## Generating a random number between the starting index of the array and the ending index of the array.\n",
    "\trandpivot = random.randrange(start, stop)\n",
    "\n",
    "\t## Swapping the starting element of the array and the pivot.\n",
    "\tarr[start], arr[randpivot] =\\\n",
    "\t\tarr[randpivot], arr[start]\n",
    "\treturn partition(arr, start, stop)\n",
    "\n",
    "def partition(arr,start,stop):\n",
    "\tpivot = start\n",
    "\ti = start - 1\n",
    "\tj = stop + 1\n",
    "\twhile True:\n",
    "\t\twhile True:\n",
    "\t\t\ti = i + 1\n",
    "\t\t\tif arr[i] >= arr[pivot]:\n",
    "\t\t\t\tbreak\n",
    "\t\twhile True:\n",
    "\t\t\tj = j - 1\n",
    "\t\t\tif arr[j] <= arr[pivot]:\n",
    "\t\t\t\tbreak\n",
    "\t\tif i >= j:\n",
    "\t\t\treturn j\n",
    "\t\tarr[i] , arr[j] = arr[j] , arr[i]\n",
    "\n",
    "if __name__:\n",
    "\tarray = [10, 7, 8, 9, 1, 5]\n",
    "\tarray2 = [29, 99, 27, 41, 66, 28, 44, 78, 87, 19, 31, 76, 58, 88, 83, 97, 12, 21, 44]\n",
    "\tarray3 = [1, 2, 19, 43, 8, 9, 20]\n",
    "\t\n",
    "\tquicksort(array, 0, len(array) - 1)\n",
    "\tprint('Sorted Array:', array)\n",
    "\tquicksort(array2, 0, len(array2) - 1)\n",
    "\tprint('Sorted Array:', array2)\n",
    "\tquicksort(array3, 0, len(array3) - 1)\n",
    "\tprint('Sorted Array:', array3)"
   ]
  },
  {
   "cell_type": "markdown",
   "metadata": {},
   "source": [
    "### Therefore, the Time Complexity for the above Algorithm is O(n logn)."
   ]
  },
  {
   "cell_type": "markdown",
   "metadata": {},
   "source": [
    "### Q4.) Kth Largest Element"
   ]
  },
  {
   "cell_type": "code",
   "execution_count": 4,
   "metadata": {},
   "outputs": [
    {
     "name": "stdout",
     "output_type": "stream",
     "text": [
      "The Kth Largest Element is: 7\n",
      "The Kth Largest Element is: 6\n",
      "The Kth Largest Element is: 256\n"
     ]
    }
   ],
   "source": [
    "def kthlargest(arr1, arr2, k):\n",
    "    ## If length of one of the arrays is 0, the answer is kth element of the second array.\n",
    "\n",
    "    if len(arr1) == 0:\n",
    "        return arr2[k]\n",
    "    elif len(arr2) == 0:\n",
    "        return arr1[k]\n",
    "\n",
    "    ## integer division\n",
    "\n",
    "    mida1 = len(arr1) // 2\n",
    "    mida2 = len(arr2) // 2\n",
    "\n",
    "    ## If mid index of a + mid index of b is less than k:\n",
    "        # If mid element of a is greater than mid element of b, we can ignore the first half of b, adjust k.\n",
    "        # Otherwise ignore the first half of a, adjust k\n",
    "    \n",
    "    if mida1 + mida2 < k:\n",
    "        if arr1[mida1] > arr2[mida2]:\n",
    "            return kthlargest(arr1, arr2[mida2+1:], k - mida2 - 1)\n",
    "        else:\n",
    "            return kthlargest(arr1[mida1+1:], arr2, k - mida1 - 1)\n",
    "    else:\n",
    "        if arr1[mida1] > arr2[mida2]:\n",
    "            return kthlargest(arr1[:mida1], arr2, k)\n",
    "        else:\n",
    "            return kthlargest(arr1, arr2[:mida2], k)\n",
    "\n",
    "list1 = [1, 4, 7, 8, 11]\n",
    "list2 = [2, 5, 9, 10, 14, 15]\n",
    "list3 = [2, 3, 6, 7, 9]\n",
    "list4 = [1, 4, 8, 10]\n",
    "list5 = [100, 112, 256, 349, 770]\n",
    "list6 = [72, 86, 113, 119, 265, 445, 892]\n",
    "\n",
    "print(\"The Kth Largest Element is:\", kthlargest(list1, list2, k=4))\n",
    "print(\"The Kth Largest Element is:\", kthlargest(list3, list4, k=4))\n",
    "print(\"The Kth Largest Element is:\", kthlargest(list5, list6, k=6))"
   ]
  },
  {
   "cell_type": "markdown",
   "metadata": {},
   "source": [
    "### Therefore, the Time Complexity of the above Algoritm is O(logm + logn)."
   ]
  }
 ],
 "metadata": {
  "interpreter": {
   "hash": "ac59ebe37160ed0dfa835113d9b8498d9f09ceb179beaac4002f036b9467c963"
  },
  "kernelspec": {
   "display_name": "Python 3.9.7 64-bit",
   "language": "python",
   "name": "python3"
  },
  "language_info": {
   "codemirror_mode": {
    "name": "ipython",
    "version": 3
   },
   "file_extension": ".py",
   "mimetype": "text/x-python",
   "name": "python",
   "nbconvert_exporter": "python",
   "pygments_lexer": "ipython3",
   "version": "3.9.7"
  },
  "orig_nbformat": 4
 },
 "nbformat": 4,
 "nbformat_minor": 2
}
