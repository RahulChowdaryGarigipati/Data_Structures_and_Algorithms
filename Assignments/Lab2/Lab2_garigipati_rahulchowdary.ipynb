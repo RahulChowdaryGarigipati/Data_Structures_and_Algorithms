{
 "cells": [
  {
   "cell_type": "markdown",
   "metadata": {},
   "source": [
    "### Q1.) DFS"
   ]
  },
  {
   "cell_type": "code",
   "execution_count": 1,
   "metadata": {},
   "outputs": [
    {
     "name": "stdout",
     "output_type": "stream",
     "text": [
      "\n",
      " Following is DFS from (vertex 0)\n",
      "0 2 1 3 \n",
      " Following is DFS from (vertex 1)\n",
      "1 2 0 3 \n",
      " Following is DFS from (vertex 2)\n",
      "2 0 1 3 "
     ]
    }
   ],
   "source": [
    "from collections import defaultdict\n",
    " \n",
    "### This class represents a directed graph using adjacency list representation\n",
    " \n",
    "class Graph:\n",
    " \n",
    "    def __init__(self):\n",
    " \n",
    "        self.graph = defaultdict(list)\n",
    " \n",
    "    ### function to add an edge to graph\n",
    "\n",
    "    def addEdge(self, u, v):\n",
    "        self.graph[u].append(v)\n",
    " \n",
    "    ### A function used by DFS\n",
    "\n",
    "    def DFSUtil(self, v, visited):\n",
    " \n",
    "        visited.add(v)\n",
    "        print(v, end=' ')\n",
    " \n",
    "        for neighbour in self.graph[v]:\n",
    "            if neighbour not in visited:\n",
    "                self.DFSUtil(neighbour, visited)\n",
    " \n",
    "    ### The function to do DFS traversal\n",
    "\n",
    "    def DFS(self, v):\n",
    " \n",
    "        visited = set()\n",
    "        self.DFSUtil(v, visited)\n",
    " \n",
    " \n",
    "g = Graph()\n",
    "g.addEdge(2, 0)\n",
    "g.addEdge(0, 2)\n",
    "g.addEdge(1, 2)\n",
    "g.addEdge(0, 1)\n",
    "g.addEdge(3, 3)\n",
    "g.addEdge(1, 3)\n",
    " \n",
    "print(\"\\n Following is DFS from (vertex 0)\")\n",
    "g.DFS(0)\n",
    "print(\"\\n Following is DFS from (vertex 1)\")\n",
    "g.DFS(1)\n",
    "print(\"\\n Following is DFS from (vertex 2)\")\n",
    "g.DFS(2)"
   ]
  },
  {
   "cell_type": "markdown",
   "metadata": {},
   "source": [
    "### The Time Complexity of the above Algorithm is O(V+E)."
   ]
  },
  {
   "cell_type": "markdown",
   "metadata": {},
   "source": [
    "### Q2.) Dtermining if the graph has a cycle or not"
   ]
  },
  {
   "cell_type": "code",
   "execution_count": 2,
   "metadata": {},
   "outputs": [
    {
     "name": "stdout",
     "output_type": "stream",
     "text": [
      "Graph has a cycle\n"
     ]
    }
   ],
   "source": [
    "from collections import defaultdict\n",
    "\n",
    "class Graph():\n",
    "\tdef __init__(self,vertices):\n",
    "\t\tself.graph = defaultdict(list)\n",
    "\t\tself.V = vertices\n",
    "\n",
    "\tdef addEdge(self,u,v):\n",
    "\t\tself.graph[u].append(v)\n",
    "\n",
    "\tdef isCyclicUtil(self, v, visited, recStack):\n",
    "\n",
    "\t\tvisited[v] = True\n",
    "\t\trecStack[v] = True\n",
    "\n",
    "\t\tfor neighbour in self.graph[v]:\n",
    "\t\t\tif visited[neighbour] == False:\n",
    "\t\t\t\tif self.isCyclicUtil(neighbour, visited, recStack) == True:\n",
    "\t\t\t\t\treturn True\n",
    "\t\t\telif recStack[neighbour] == True:\n",
    "\t\t\t\treturn True\n",
    "\n",
    "\t\trecStack[v] = False\n",
    "\t\treturn False\n",
    "\n",
    "\n",
    "\tdef isCyclic(self):\n",
    "\t\tvisited = [False] * (self.V + 1)\n",
    "\t\trecStack = [False] * (self.V + 1)\n",
    "\t\tfor node in range(self.V):\n",
    "\t\t\tif visited[node] == False:\n",
    "\t\t\t\tif self.isCyclicUtil(node,visited,recStack) == True:\n",
    "\t\t\t\t\treturn True\n",
    "\t\treturn False\n",
    "\n",
    "g = Graph(3)\n",
    "g.addEdge(2, 0)\n",
    "g.addEdge(0, 2)\n",
    "g.addEdge(1, 2)\n",
    "g.addEdge(0, 1)\n",
    "g.addEdge(3, 3)\n",
    "g.addEdge(1, 3)\n",
    "\n",
    "if g.isCyclic() == 1:\n",
    "\tprint (\"Graph has a cycle\")\n",
    "else:\n",
    "\tprint (\"Graph has no cycle\")"
   ]
  },
  {
   "cell_type": "markdown",
   "metadata": {},
   "source": [
    "### The Time Complexity of the above Algorithm is O(V+E)."
   ]
  },
  {
   "cell_type": "markdown",
   "metadata": {},
   "source": [
    "### Q3.) Finding the no.of Islands from the 2D boolean matrix"
   ]
  },
  {
   "cell_type": "code",
   "execution_count": 3,
   "metadata": {},
   "outputs": [
    {
     "name": "stdout",
     "output_type": "stream",
     "text": [
      "Number of islands is: 4\n"
     ]
    }
   ],
   "source": [
    "class Graph:\n",
    "\n",
    "\tdef __init__(self, row, col, g):\n",
    "\t\tself.ROW = row\n",
    "\t\tself.COL = col\n",
    "\t\tself.graph = g\n",
    "\n",
    "\t### A function to check if a given cell (row, col) can be included in DFS\n",
    "\n",
    "\tdef isSafe(self, i, j, visited):\n",
    "\t\n",
    "\t\treturn (i >= 0 and i < self.ROW and\n",
    "\t\t\t\tj >= 0 and j < self.COL and\n",
    "\t\t\t\tnot visited[i][j] and self.graph[i][j])\n",
    "\t\n",
    "    ### A function to utilise DFS\n",
    "\n",
    "\tdef DFS(self, i, j, visited):\n",
    "\n",
    "\t\trowNbr = [-1, -1, -1, 0, 0, 1, 1, 1]\n",
    "\t\tcolNbr = [-1, 0, 1, -1, 1, -1, 0, 1]\n",
    "\t\t\n",
    "\t\tvisited[i][j] = True\n",
    "\n",
    "\t\tfor k in range(8):\n",
    "\n",
    "\t\t\tif self.isSafe(i + rowNbr[k], j + colNbr[k], visited):\n",
    "\t\t\t\tself.DFS(i + rowNbr[k], j + colNbr[k], visited)\n",
    "\n",
    "\n",
    "\t### The main function that returns count of islands in a given boolean 2D matrix\n",
    "\n",
    "\tdef countIslands(self):\n",
    "\t\n",
    "\t\tvisited = [[False for j in range(self.COL)]for i in range(self.ROW)]\n",
    "\n",
    "\t\tcount = 0\n",
    "\t\tfor i in range(self.ROW):\n",
    "\t\t\tfor j in range(self.COL):\n",
    "\n",
    "\t\t\t\tif visited[i][j] == False and self.graph[i][j] == 1:\n",
    "\n",
    "\t\t\t\t\tself.DFS(i, j, visited)\n",
    "\t\t\t\t\tcount += 1\n",
    "\n",
    "\t\treturn count\n",
    "\n",
    "graph = [[1, 1, 0, 0, 0],\n",
    "\t\t[0, 1, 0, 0, 1],\n",
    "\t\t[1, 0, 0, 1, 1],\n",
    "\t\t[0, 0, 0, 0, 0],\n",
    "\t\t[1, 0, 1, 1, 0]]\n",
    "\n",
    "\n",
    "row = len(graph)\n",
    "col = len(graph[0])\n",
    "\n",
    "g = Graph(row, col, graph)\n",
    "\n",
    "print (\"Number of islands is:\", g.countIslands())"
   ]
  },
  {
   "cell_type": "markdown",
   "metadata": {},
   "source": [
    "### The Time Complexity of the above Algorithm is O(numRows X numColumns)."
   ]
  }
 ],
 "metadata": {
  "interpreter": {
   "hash": "ac59ebe37160ed0dfa835113d9b8498d9f09ceb179beaac4002f036b9467c963"
  },
  "kernelspec": {
   "display_name": "Python 3.9.7 64-bit",
   "language": "python",
   "name": "python3"
  },
  "language_info": {
   "codemirror_mode": {
    "name": "ipython",
    "version": 3
   },
   "file_extension": ".py",
   "mimetype": "text/x-python",
   "name": "python",
   "nbconvert_exporter": "python",
   "pygments_lexer": "ipython3",
   "version": "3.9.7"
  },
  "orig_nbformat": 4
 },
 "nbformat": 4,
 "nbformat_minor": 2
}
