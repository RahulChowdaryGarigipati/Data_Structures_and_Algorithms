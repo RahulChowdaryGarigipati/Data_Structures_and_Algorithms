{
 "cells": [
  {
   "cell_type": "markdown",
   "metadata": {},
   "source": [
    "### Q1.) 0-1 Knapsack Problem without repetition"
   ]
  },
  {
   "cell_type": "code",
   "execution_count": 1,
   "metadata": {},
   "outputs": [
    {
     "name": "stdout",
     "output_type": "stream",
     "text": [
      "['{{60, 10}, {100, 20}, {120, 30}}, W = 50']\n",
      "Maximum Possible Value is: 220\n"
     ]
    }
   ],
   "source": [
    "### Function to create a 0-1 knapsack problem (without repetition) using dynamic programming\n",
    "\n",
    "def knapsack(capacity, weights, values):\n",
    "    \"\"\"\n",
    "    Returns the maximum value that can be obtained by filling a knapsack\n",
    "    with the given capacity.\n",
    "    \"\"\"\n",
    "    # Create a table to store the values of the knapsack\n",
    "    table = [[0 for x in range(capacity + 1)] for x in range(len(weights) + 1)]\n",
    "    # Fill the table\n",
    "    for i in range(1, len(weights) + 1):\n",
    "        for j in range(1, capacity + 1):\n",
    "            if weights[i - 1] <= j:\n",
    "                table[i][j] = max(values[i - 1] + table[i - 1][j - weights[i - 1]], table[i - 1][j])\n",
    "            else:\n",
    "                table[i][j] = table[i - 1][j]\n",
    "    # Return the maximum value\n",
    "    return table[len(weights)][capacity]\n",
    "\n",
    "## Read the input file\n",
    "with open('Q1.txt', 'r') as f:\n",
    "    lines = f.readlines()\n",
    "print(lines)\n",
    "wt = []\n",
    "val = []\n",
    "x = lines[0].split(\", W = \")\n",
    "capacity = int(x[1])\n",
    "s = x[0][1:-1]\n",
    "nodes = [p.split('}')[0] for p in s.split('{') if '}' in p]\n",
    "n_cols = len(nodes[0].split(','))\n",
    "for i in range(len(nodes)):\n",
    "\twt.append(int(nodes[i].split(',')[1]))\n",
    "\tval.append(int(nodes[i].split(',')[0]))\n",
    "\n",
    "print(\"Maximum Possible Value is:\", knapsack(capacity, wt, val))"
   ]
  },
  {
   "cell_type": "markdown",
   "metadata": {},
   "source": [
    "#### The Time Complexity for the above Algorithm is O(n * w)"
   ]
  },
  {
   "cell_type": "markdown",
   "metadata": {},
   "source": [
    "### Q2.) 0-1 Knapsack Problem with repetition"
   ]
  },
  {
   "cell_type": "code",
   "execution_count": 2,
   "metadata": {},
   "outputs": [
    {
     "name": "stdout",
     "output_type": "stream",
     "text": [
      "['{{60, 10}, {100, 20}, {120, 30}}, W = 50']\n",
      "Maximum Possible Value is: 300\n"
     ]
    }
   ],
   "source": [
    "### Function to create a 0-1 knapsack problem (with repetition) using dynamic programming\n",
    "\n",
    "def knapsack_repetition(W, n, val, wt):\n",
    " \n",
    "    # dp[i] is going to store maximum\n",
    "    # value with knapsack capacity i.\n",
    "    dp = [0 for i in range(W + 1)]\n",
    " \n",
    "    ans = 0\n",
    " \n",
    "    # Fill dp[] using above recursive formula\n",
    "    for i in range(W + 1):\n",
    "        for j in range(n):\n",
    "            if (wt[j] <= i):\n",
    "                dp[i] = max(dp[i], dp[i - wt[j]] + val[j])\n",
    " \n",
    "    return dp[W]\n",
    "\n",
    "## Read the input file\n",
    "with open('Q2.txt', 'r') as f:\n",
    "    lines = f.readlines()\n",
    "print(lines)\n",
    "wt = []\n",
    "val = []\n",
    "x = lines[0].split(\", W = \")\n",
    "capacity = int(x[1])\n",
    "s = x[0][1:-1]\n",
    "nodes = [p.split('}')[0] for p in s.split('{') if '}' in p]\n",
    "n_cols = len(nodes[0].split(','))\n",
    "for i in range(len(nodes)):\n",
    "    wt.append(int(nodes[i].split(',')[1]))\n",
    "    val.append(int(nodes[i].split(',')[0]))\n",
    "print(\"Maximum Possible Value is:\", knapsack_repetition(capacity, len(wt), val, wt))"
   ]
  },
  {
   "cell_type": "markdown",
   "metadata": {},
   "source": [
    "#### The Time Complexity for the above Algorithm is O(n * w)"
   ]
  },
  {
   "cell_type": "markdown",
   "metadata": {},
   "source": [
    "### Q3.) Longest Common Subsequence"
   ]
  },
  {
   "cell_type": "code",
   "execution_count": 3,
   "metadata": {},
   "outputs": [
    {
     "name": "stdout",
     "output_type": "stream",
     "text": [
      "['ABCBDAB, BDCABAB']\n",
      "['ABCBDAB'] ['BDCABAB']\n",
      "Length of LCS is: 5\n"
     ]
    }
   ],
   "source": [
    "### Function to create a longest common subsequence problem using dynamic programming\n",
    "\n",
    "def lcs(X, Y):\n",
    "    \"\"\"\n",
    "    Returns the length of the longest common subsequence of sequences X and Y.\n",
    "    \"\"\"\n",
    "    # Create a table to store the values of the LCS\n",
    "    table = [[0 for x in range(len(Y) + 1)] for x in range(len(X) + 1)]\n",
    "    # Fill the table\n",
    "    for i in range(1, len(X) + 1):\n",
    "        for j in range(1, len(Y) + 1):\n",
    "            if X[i - 1] == Y[j - 1]:\n",
    "                table[i][j] = table[i - 1][j - 1] + 1\n",
    "            else:\n",
    "                table[i][j] = max(table[i - 1][j], table[i][j - 1])\n",
    "    # Return the length of the longest common subsequence\n",
    "    return table[len(X)][len(Y)]\n",
    "\n",
    "## Read the input file\n",
    "with open('Q3.txt', 'r') as f:\n",
    "    lines = f.readlines()\n",
    "print(lines)\n",
    "X = []\n",
    "Y = []\n",
    "for i in range(len(lines)):\n",
    "    X.append(lines[i].split(',')[0])\n",
    "    Y.append(lines[i].split(',')[1].strip())\n",
    "print(X, Y)\n",
    "for j in range(len(X)):\n",
    "    print(\"Length of LCS is:\", lcs(X[j], Y[j]))"
   ]
  },
  {
   "cell_type": "markdown",
   "metadata": {},
   "source": [
    "#### The Time Complexity for the above Algorithm is O(m * n)"
   ]
  }
 ],
 "metadata": {
  "interpreter": {
   "hash": "ac59ebe37160ed0dfa835113d9b8498d9f09ceb179beaac4002f036b9467c963"
  },
  "kernelspec": {
   "display_name": "Python 3.9.7 64-bit",
   "language": "python",
   "name": "python3"
  },
  "language_info": {
   "codemirror_mode": {
    "name": "ipython",
    "version": 3
   },
   "file_extension": ".py",
   "mimetype": "text/x-python",
   "name": "python",
   "nbconvert_exporter": "python",
   "pygments_lexer": "ipython3",
   "version": "3.9.7"
  },
  "orig_nbformat": 4
 },
 "nbformat": 4,
 "nbformat_minor": 2
}
